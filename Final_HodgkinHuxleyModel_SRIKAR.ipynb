{
  "nbformat": 4,
  "nbformat_minor": 0,
  "metadata": {
    "colab": {
      "provenance": [],
      "collapsed_sections": [
        "kCc7mYYqq0Y7",
        "-HQKA0E1q6Oh",
        "z8Jf1Qmarhk-",
        "8eH_N6GBrnfU",
        "UgPY7RjGrtEQ",
        "PpPbBnGSr1cp",
        "-gPVt-X4sAe0",
        "FlkVr7sIsJy5",
        "z08lYA5Jsy4m",
        "Bxx213WKsfKG",
        "Tnx-0IrcsnWG",
        "-eAoRuf3tDKc",
        "PbaFYsR2tVBi",
        "BA297ImQt00l"
      ],
      "toc_visible": true,
      "include_colab_link": true
    },
    "kernelspec": {
      "name": "python3",
      "display_name": "Python 3"
    },
    "language_info": {
      "name": "python"
    }
  },
  "cells": [
    {
      "cell_type": "markdown",
      "metadata": {
        "id": "view-in-github",
        "colab_type": "text"
      },
      "source": [
        "<a href=\"https://colab.research.google.com/github/SrikarK-code/bme244/blob/main/Final_HodgkinHuxleyModel_SRIKAR.ipynb\" target=\"_parent\"><img src=\"https://colab.research.google.com/assets/colab-badge.svg\" alt=\"Open In Colab\"/></a>"
      ]
    },
    {
      "cell_type": "markdown",
      "source": [
        "# IMPORTING LIBRARIES"
      ],
      "metadata": {
        "id": "kCc7mYYqq0Y7"
      }
    },
    {
      "cell_type": "code",
      "execution_count": null,
      "metadata": {
        "id": "gSyXPXkogDqL"
      },
      "outputs": [],
      "source": [
        "import numpy as np\n",
        "import matplotlib.pyplot as plt"
      ]
    },
    {
      "cell_type": "markdown",
      "source": [
        "# C. ESTABLISHING INITIAL CONDITIONS"
      ],
      "metadata": {
        "id": "-HQKA0E1q6Oh"
      }
    },
    {
      "cell_type": "code",
      "source": [
        "## added paramaters to the skeleton structure\n",
        "Vm = float(-60) #varying membrane potential --> for resting vm =0, hence, Vm = Vr\n",
        "# this is because vm = Vm - Vr, and if vm =0, Vm = Vr\n",
        "vm = float(0) # vm --> the relative membrane potential is vm = Vm - Vr, where \n",
        "# you are basically incrementing the membrane potential due to outside stimuli\n",
        "# and then measuring the relative potential in regards to resting membrane \n",
        "# potential. \n",
        "e = float(2.71828) # this is just to make a float storage for the number \"e\""
      ],
      "metadata": {
        "id": "0qfRIrjx2AhP"
      },
      "execution_count": null,
      "outputs": []
    },
    {
      "cell_type": "code",
      "source": [
        "## adding parameters to the skeleton structure\n",
        "# this is for probability of n,m,h gates being open \n",
        "# UNITLESS\n",
        "#### for Na and K conductance\n",
        "am=(0.1*(25-vm))/(np.exp((25-vm)/10)-1) \n",
        "ah=0.07*np.exp(-vm/20)\n",
        "# these two constants are the probability that all Na+ channels or at least 1 particle in the channel\n",
        "# is in position to allow Na+ conductance. In Na+, there is not just one constant dictating\n",
        "# the probability, unlike potassium. There is m^3h as the probability, so the probability \n",
        "# of the gate opening is based on am and ah. There is a key difference to note here, that\n",
        "# am is the opening probability constant of the activation gates, while ah, is the opening\n",
        "# probability constant of the inactivation gate.\n",
        "bm=4*np.exp(-vm/18)\n",
        "bh=1/(np.exp((30-vm)/10)+1)\n",
        "# Just like am and ah, the two beta variables that correspond to Na+ conductance, are \n",
        "# responsible for being the constants for the gates, both activating and inactivating, \n",
        "# respectively, closing. \n",
        "an=(0.01*(10-vm))/(np.exp((10-vm)/10)-1)\n",
        "bn=0.125*np.exp(-vm/80)\n",
        "# an is the constant for showing the probability that all K+ channels or at least 1 particle \n",
        "# is in position to allow K+ conductance. an governs the constant of opening gates, where,\n",
        "# bn governs the constant/probability of gates closing. \n",
        "\n",
        "# these values are dependent upon the relative membrane potential which can change due to \n",
        "# the resting membrane potential (affected by Na+/K+ pump, leak K+ channels, leak N+ channels),\n",
        "# and the absolute membrane potential which changes upon stimuli. This basically calculates\n",
        "# how intense the stimuli is and how much difference there is between Vm and Vr.\n"
      ],
      "metadata": {
        "id": "Vrn75D6YAgq5"
      },
      "execution_count": null,
      "outputs": []
    },
    {
      "cell_type": "code",
      "source": [
        "## writing the DiffEqs for n,m,h gates\n",
        "\n",
        "# Figuring out initial conditions\n",
        "# UNITLESS\n",
        "\n",
        "# how do we figure out these initial conditions? -->   there is only leak channels open at rest\n",
        "# so we have to think about these variables in terms of only leak --> for example dN/dt = 0\n",
        "# at rest because there is no voltage opening and closing...  Now you have an algebraic equation\n",
        "# to solve for M0,N0,H0 -- these expressions are derived and defined below.\n",
        "\n",
        "# define dndti, dhdti, dmdti = 0 initially as there are only leak channels, i=initial.\n",
        "# there is no opening and closing of voltage gated channels, hence the probability rate\n",
        "# of a particle being able to allow K+ or N+ conductance would be 0. hence, the initial \n",
        "# d(n/h/m)dti is 0. \n",
        "dndti = 0\n",
        "dhdti = 0\n",
        "dmdti = 0\n",
        "\n",
        "## create equations to solve for N[0]\n",
        "\n",
        "# n\n",
        "# dndti = an*(1-n) - bn*n #=0\n",
        "# when solved for n:\n",
        "n0 = an/(an+bn)\n",
        "\n",
        "# h\n",
        "# dhdti = ah*(1-h) - bh*h #=0\n",
        "# when solved for n:\n",
        "h0 = ah/(ah+bh)\n",
        "\n",
        "# m\n",
        "# dmdti = am*(1-m) - bm*m #=0\n",
        "# when solved for m:\n",
        "m0 = am/(am+bm)\n",
        "\n",
        "## define initial conditions\n",
        "M0= round(m0,3) # initial conditions for M, where M[0] = M0                        \n",
        "N0= round(n0,3) # initial conditions for M, where M[0] = M0                     \n",
        "H0= round(h0,3) # initial conditions for M, where M[0] = M0 \n"
      ],
      "metadata": {
        "id": "E_VgodNDDEXk"
      },
      "execution_count": null,
      "outputs": []
    },
    {
      "cell_type": "code",
      "source": [
        "# looking at initial values\n",
        "print(f'M0: {M0}')\n",
        "print(f'N0: {N0}')\n",
        "print(f'H0: {H0}')"
      ],
      "metadata": {
        "colab": {
          "base_uri": "https://localhost:8080/"
        },
        "id": "eBplNbimLHZ2",
        "outputId": "4bc6cf32-2a53-4f56-ba6a-77e995e2aab8"
      },
      "execution_count": null,
      "outputs": [
        {
          "output_type": "stream",
          "name": "stdout",
          "text": [
            "M0: 0.053\n",
            "N0: 0.318\n",
            "H0: 0.596\n"
          ]
        }
      ]
    },
    {
      "cell_type": "markdown",
      "source": [
        "# PROVIDING VALUES FOR GIVEN PARAMETERS"
      ],
      "metadata": {
        "id": "z8Jf1Qmarhk-"
      }
    },
    {
      "cell_type": "code",
      "source": [
        "## gNa = gNaMax*(m**3)*(h)*(Vm-ENa)\n",
        "## gK = gK*(n**4)*(Vm-EK)\n",
        "\n",
        "# microSiemens/cm^2 (conductance accross cell membrane normalized by surface area)\n",
        "\n",
        "gNa=100 #gNa is the sodium conductance in a particular cell, where it's proportional to a gMaxNa \n",
        "# gMaxNa in a neuron is 120 mS/cm^2, so gNa can vary from 0 to 120, because gMaxNa varies from 0 to 1\n",
        "# --> set it to 100 (arbitrary)\n",
        "gK=30 #gK is the potassium conductance in a particular cell, where it's proportional to a gMaxK \n",
        "# gMaxK in a neuron is 36 mS/cm^2, so gK can vary from 0 to 36, because gMaxK varies from 0 to 1 \n",
        "# --> set it to 30 (arbitrary)\n",
        "\n",
        "### Gating variables m**3*h, and n**4, help to describe proportion of channels open \n",
        "# for a given applied voltage over time...\n"
      ],
      "metadata": {
        "id": "eHgmm6Hoorh6"
      },
      "execution_count": null,
      "outputs": []
    },
    {
      "cell_type": "code",
      "source": [
        "# these are given to us in lecture\n",
        "GO= 0.3 # mS/cm^2 \n",
        "# this is called leakage conductance (as name suggested from leakage currents from the original\n",
        "# hodgkin huxley paper) -- basically all this G0 is saying, is that there are also other ions\n",
        "# like Cl-, and some other bio-entities responsible for the conductance of the cell and \n",
        "# threshold current of the action potential; however, they are negligible in regards to \n",
        "# the Na+ and K+ conductance.\n",
        "Cm= 1 # uF/cm^2\n",
        "# Capacitance of the cell membrane\n",
        "# The membrane capacitance is proportional to the cell surface area and, together with the membrane resistance, \n",
        "# determines the membrane time constant which dictates how fast the cell membrane potential \n",
        "# responds to the flow of ion channel currents."
      ],
      "metadata": {
        "id": "Bv7hiuYeIt9x"
      },
      "execution_count": null,
      "outputs": []
    },
    {
      "cell_type": "code",
      "source": [
        "Vr=-60  # Vr is the resting membrane potential that's set for the cell type, -70mV in a neuron\n",
        "ENa=(115+Vr)  # ENa is the nernst potential of Na --> equation is seen to the left... \n",
        "EK=(-12+Vr)  # the nernst potential of K+ measured same method as ENa... the nernst potential of Eion \n",
        "# is there is an achieved balance of electrochemical forces for the ion, where the vector for elec-\n",
        "# trical force and vector for chemical force is equal and cancel each other out.     \n",
        "EO=(10.613+Vr)  # EO is the nernst potential of the other ions (basically accounts for all of the other channel \n",
        "# types - according to hodgkin-huxley original paper, CL- is also an \"other\" ion, so we will just use\n",
        "# its nernst potential as the EO                                  "
      ],
      "metadata": {
        "id": "fBVxAaYLIwMM"
      },
      "execution_count": null,
      "outputs": []
    },
    {
      "cell_type": "code",
      "source": [
        "# Looking at Nernst Potential values\n",
        "print(f'ENa: {ENa}')\n",
        "print(f'EK: {EK}')\n",
        "print(f'E0: {EO}')"
      ],
      "metadata": {
        "colab": {
          "base_uri": "https://localhost:8080/"
        },
        "id": "oLuWSQ59W1wk",
        "outputId": "25edcaa3-6217-423a-b8ea-12fd71a7ecf9"
      },
      "execution_count": null,
      "outputs": [
        {
          "output_type": "stream",
          "name": "stdout",
          "text": [
            "ENa: 55\n",
            "EK: -72\n",
            "E0: -49.387\n"
          ]
        }
      ]
    },
    {
      "cell_type": "markdown",
      "source": [
        "# VARYING THE CURRENT iSTIM VALUES TO INDUCE VARIOUS ACTION POTENTIALS"
      ],
      "metadata": {
        "id": "8eH_N6GBrnfU"
      }
    },
    {
      "cell_type": "code",
      "source": [
        "Istim= 31 # usually equals Itotal --> the external stimulation \n",
        "# this is what we are calling the threshold current (UNITS) \n",
        "# this was found with guess and check methods --> can vary between cell types\n",
        "Istim_hyper= 52 # defining threshold current for second AP during relative refractory period   \n",
        "Istim_long = 27  # defining threshold current for longer refractory period time\n",
        "Istim_substim = 25 # defining sub threshold stimulus current (arbitrary)\n",
        "Istim_suprastim = 62 # defining super/supra threshold stimulus current (arbitrary)"
      ],
      "metadata": {
        "id": "3tmZI_hLI0U_"
      },
      "execution_count": null,
      "outputs": []
    },
    {
      "cell_type": "markdown",
      "source": [
        "# ESTABLISHING TIME PARAMETERS AND TIME STEPS FOR FORWARD EULER METHOD OF NUMERICAL DIFFERENTIATION"
      ],
      "metadata": {
        "id": "UgPY7RjGrtEQ"
      }
    },
    {
      "cell_type": "code",
      "source": [
        "t0=0 # varying start time parameter --> time at start of stimulus is 0 sec\n",
        "tEnd=40 # varying end time parameter --> time at end of stimulus is 40 sec\n",
        "dt=0.01  # this is step increment in time or delta t, with little change in time   "
      ],
      "metadata": {
        "id": "cgahaoPqI3DD"
      },
      "execution_count": null,
      "outputs": []
    },
    {
      "cell_type": "code",
      "source": [
        "t=np.arange(t0,tEnd,dt)  \n",
        "# Return evenly spaced values within a given interval\n",
        "# so between the start time and end time, it returns an evenly spaced interval\n",
        "# with each increment being dt or 0.01, so there are about 4000 increments.\n",
        "# This .arange function is built in with numpy, where np. calls the numpy package\n",
        "# and .array calls the method to get from the numpy package."
      ],
      "metadata": {
        "id": "-iOItCXAoyNK"
      },
      "execution_count": null,
      "outputs": []
    },
    {
      "cell_type": "code",
      "source": [
        "n=int((tEnd-t0)/dt) # does the operation to get the 4000 increments, as its \n",
        "# saying (40-0)/0.01 --> this value will be used in the below step to make \n",
        "# the n*1 array using np.zeros...                "
      ],
      "metadata": {
        "id": "Nid7M9r2o0FI"
      },
      "execution_count": null,
      "outputs": []
    },
    {
      "cell_type": "code",
      "source": [
        "# making array with np.zeroes \n",
        "# np package\n",
        "# .zeroes method\n",
        "# n*1 array\n",
        "V=np.zeros(n)                      \n",
        "N=np.zeros(n)                       \n",
        "M=np.zeros(n)                       \n",
        "H=np.zeros(n)                       \n",
        "GNa=np.zeros(n)                     \n",
        "GK=np.zeros(n)                      \n",
        "INa=np.zeros(n)                     \n",
        "IK=np.zeros(n)                      \n",
        "IO=np.zeros(n)                      "
      ],
      "metadata": {
        "id": "ep6VY95no523"
      },
      "execution_count": null,
      "outputs": []
    },
    {
      "cell_type": "code",
      "source": [
        "## Defining initial conditions\n",
        "# Given in code\n",
        "V[0]=Vr # this is the resting membrane potential \n",
        "# where essentially, the net movement of ions due to electrochemical forces\n",
        "# is balanced and can be said as 0 --> the state of the cell is at rest\n",
        "# as there is no external stimuli present at this resting state.                           \n",
        "M[0]=M0                            \n",
        "N[0]=N0                            \n",
        "H[0]=H0    "
      ],
      "metadata": {
        "id": "Uc-dbNPxo_Ut"
      },
      "execution_count": null,
      "outputs": []
    },
    {
      "cell_type": "markdown",
      "source": [
        "# PROVIDING ANNOTATION FOR DIFFEQ SOLVING CODE"
      ],
      "metadata": {
        "id": "PpPbBnGSr1cp"
      }
    },
    {
      "cell_type": "markdown",
      "source": [
        "Explain the For loop DiffEQ Code\n",
        "-- This is not for any of the plotting\n",
        "-- Just for informational Purposes "
      ],
      "metadata": {
        "id": "AAwA9zjuPIf5"
      }
    },
    {
      "cell_type": "code",
      "source": [
        "for i in range(0,len(t)-1):\n",
        "    \n",
        "    GNa[i]=gNa*H[i]*M[i]**3         \n",
        "    GK[i]=gK*N[i]**4                \n",
        "\n",
        "    # the above parameters are the conductances for Na+ and K+\n",
        "    # #gNa is the sodium conductance in a particular cell, where it's proportional to a gMaxNa \n",
        "    # gMaxNa in a neuron is 120 mS/cm^2, so gNa can vary from 0 to 120, because gMaxNa varies from 0 to 1\n",
        "    # gK is the potassium conductance in a particular cell, where it's proportional to a gMaxK \n",
        "    # gMaxK in a neuron is 36 mS/cm^2, so gK can vary from 0 to 36, because gMaxK varies from 0 to 1 \n",
        "    # Conductance of sodium and potassium are dictated by the abundacne of leak channels and sodium potassium pumps \n",
        "    # in the cell membrane, so naturally potassium has a higher natural conductance than sodium\n",
        "    # in the presence of leak channels, of course. When the action potential hits, the conductance of \n",
        "    # sodium rapidly increases while potassium G, slowly increases. But when repolarizing, the conductance\n",
        "    # out of the cell for K+ is very high and Na+ into the cell is very minimal. This will be explained further\n",
        "    # when we take a look at the graphs.\n",
        "\n",
        "    INa[i]=GNa[i]*(V[i]-ENa)       \n",
        "    IK[i]=GK[i]*(V[i]-EK)          \n",
        "    IO[i]=GO*(V[i]-EO)   \n",
        "\n",
        "    # the above parameters are the currents or leakage currents (I0) for Na+, K+, and other ions\n",
        "    # the current of these ions are calculated by the conductance as shown above, multiplied\n",
        "    # by the driving force. The driving force is nothing but the aboslute membrane potential \n",
        "    # minus the nernst potential of a certain ion. If you look a the goldman equation, these \n",
        "    # are what kind of correspond to the weights of each Eion, to generate a reasonable nernst potential.\n",
        "    # The driving force here can be thought of as the membrane voltage relatively, while the Conductance\n",
        "    # can be thought of as some form of a resisting parameter. So, since V=IR, I = V/R, and so we can \n",
        "    # say that higher G corresponds to lower resistance or higher flow of ions. Through this relationship\n",
        "    # we can see the actual electrical current of each ion, and something interesting to note here, \n",
        "    # is that in the big picture, the leakage current (or current of the other ions/bioprocesses) is \n",
        "    # basically negligible and the current of the membrane only depends on the Na+ current and K+\n",
        "    # current. We have to account for the other leakage current because it exists and isn't fully 0. \n",
        "    # It is readily seen that if the channels for an ion are closed (i.e., G = 0), the current carried \n",
        "    # by that ion will be zero (i.e., I = 0), regardless of how many channels are present in the membrane. \n",
        "    # Moreover, it can also be seen that if no electrical field acts on an ion (i.e., V = 0), the current \n",
        "    # carried by that ion will be zero (i.e., I = 0), regardless of how many channels are present in the \n",
        "    # membrane even if all those channels are open.          \n",
        "    \n",
        "    vm=V[i]-Vr      \n",
        "\n",
        "    # relative membrane potential is basically the measure of the current membrane state of the cell\n",
        "    # this is measured by taking the difference between the absolute membrane potential and the \n",
        "    # resting membrane potential, and can show us exactly how the stiumulus also acts on membrane potential.\n",
        "    # Essentially, if we apply a large stimulus, the absolute potential will tend towards Na+ initially, \n",
        "    # and the relative potential will be some big positive number as compare to if repolarization or \n",
        "    # hyperpolarization, there will be a large negative number as relative membrane potential. \n",
        "\n",
        "    # these values (alphas and betas below) are dependent upon the relative membrane potential which can change due to \n",
        "    # the resting membrane potential (affected by Na+/K+ pump, leak K+ channels, leak N+ channels),\n",
        "    # and the absolute membrane potential which changes upon stimuli. This basically calculates\n",
        "    # how intense the stimuli is and how much difference there is between Vm and Vr.                \n",
        "     \n",
        "    \n",
        "    am=(0.1*(25-vm))/(np.exp((25-vm)/10)-1)\n",
        "    ah=0.07*np.exp(-vm/20)\n",
        "    # these two constants are the probability that all Na+ channels or at least 1 particle in the channel\n",
        "    # is in position to allow Na+ conductance. In Na+, there is not just one constant dictating\n",
        "    # the probability, unlike potassium. There is m^3h as the probability, so the probability \n",
        "    # of the gate opening is based on am and ah. There is a key difference to note here, that\n",
        "    # am is the opening probability constant of the activation gates, while ah, is the opening\n",
        "    # probability constant of the inactivation gate.\n",
        "    bm=4*np.exp(-vm/18)\n",
        "    bh=1/(np.exp((30-vm)/10)+1)\n",
        "    # Just like am and ah, the two beta variables that correspond to Na+ conductance, are \n",
        "    # responsible for being the constants for the gates, both activating and inactivating, \n",
        "    # respectively, closing. \n",
        "    an=(0.01*(10-vm))/(np.exp((10-vm)/10)-1)\n",
        "    bn=0.125*np.exp(-vm/80)\n",
        "    # an is the constant for showing the probability that all K+ channels or at least 1 particle \n",
        "    # is in position to allow K+ conductance. an governs the constant of opening gates, where,\n",
        "    # bn governs the constant/probability of gates closing. \n",
        "\n",
        "    \n",
        "     \n",
        "\n",
        "    # below are the differential equations to solve for the probabilities explained above.\n",
        "    # basically the rate of K+ gates opening and N+ activation/inactivation gates are \n",
        "    # governed by the dn/dt, dm/dt, and dh/dt equations, respectively. So when solved\n",
        "    # for N with dt on one side, below are the equations we get. These equations use \n",
        "    # the forward euler method of differentiation to solve, which is explain in the \n",
        "    # next text block. \n",
        "    N[i+1]=N[i]+dt*(an*(1-N[i])-bn*N[i]);            \n",
        "    M[i+1]=M[i]+dt*(am*(1-M[i])-bm*M[i]);            \n",
        "    H[i+1]=H[i]+dt*(ah*(1-H[i])-bh*H[i]);            \n",
        "    \n",
        "    \n",
        "    ## The below code is basically showing that when we introduce the stimulus, \n",
        "    # the Itotal or current total equals the stimulus current for the specific time\n",
        "    # we want the stimulus to be applied. Hence the extra Istim parameter for the if\n",
        "    # statement. When we don't apply stimulus (in resting Istim is 0) and after stimulus\n",
        "    # pulse, the Istim also equals 0, so we don't see an Istim term there. The below\n",
        "    # two lines will give us the membrane voltages to see if we actually achieved the \n",
        "    # action potential or not. \n",
        "    if t[i]>=7 and t[i]<=7.2:                              \n",
        "        V[i+1]=V[i]+dt*(-INa[i]-IK[i]-IO[i]+Istim)/Cm    \n",
        "    else:\n",
        "        V[i+1]=V[i]+dt*(-INa[i]-IK[i]-IO[i])/Cm   "
      ],
      "metadata": {
        "id": "dKYF5KtvPPGy"
      },
      "execution_count": null,
      "outputs": []
    },
    {
      "cell_type": "markdown",
      "source": [
        "# B. FORWARD EULER METHOD"
      ],
      "metadata": {
        "id": "-gPVt-X4sAe0"
      }
    },
    {
      "cell_type": "markdown",
      "source": [
        "Forward Euler Method:\n",
        "\n",
        "for any numerical method, we need to create a discretization of our variables, and one of the STANDARD ways to do this, is to define an initial time and time step, as defined by our t0 and dt, respectively. So now, tn is equal to n multipled by dt, where n is just a set of integers from 0 to final specified index value. This breaks the grid or array up into equal parts with a total of tfinal/dt steps or in our case, 40/0.01 = 4000 steps. This was done in the code with the np.arange function. To solve an ODE (first order) with the forward Euler method, we make the following approximation of the first derivative term... dy/dt = (y(n+1)-y(n))/dt, where dt in dy/dt is for integration purposes, and dt on the right side is the time step (delta or change in t). This equation is very similar to our derivative definition where we are essentially defining the slope term at any given point. We will now take this approximation and plug it into our DiffEq, that was specified which each N+ and K+ gate conductance opening and closing rate equations. dN/dt, dM/dt, and dH/dt are what we will plug this approximation in for with y being substituted with any of the aforementioned variables. Rearrange formula, as done in the for loop, to y(n+1) = y(n) + dt(current sum function with or without Istim). Can solve for each y(n+1) and then graph the membrane potentials, as current is the derivative of Voltage, essentially. So, overall, we basically did some first order taylor expansion to solve for many n+1 points. This can be graphed as the membrane voltage with mV on y-axis, and mS on x-axis.  "
      ],
      "metadata": {
        "id": "zQX2Fk7hPOS8"
      }
    },
    {
      "cell_type": "markdown",
      "source": [
        "# D. THRESHOLD CURRENT TO INDUCE ACTION POTENTIAL IS \n",
        "# 31 mA/cm**2"
      ],
      "metadata": {
        "id": "FlkVr7sIsJy5"
      }
    },
    {
      "cell_type": "markdown",
      "source": [
        "One Stimulus"
      ],
      "metadata": {
        "id": "rahErR324xx6"
      }
    },
    {
      "cell_type": "code",
      "source": [
        "for i in range(0,len(t)-1):\n",
        "    \n",
        "    GNa[i]=gNa*H[i]*M[i]**3  ## Na conductance       \n",
        "    GK[i]=gK*N[i]**4  ## K conductance              \n",
        "\n",
        "    INa[i]=GNa[i]*(V[i]-ENa) ## Current Na     \n",
        "    IK[i]=GK[i]*(V[i]-EK)  ## Current K        \n",
        "    IO[i]=GO*(V[i]-EO)  ## Current other ions (including Cl-)           \n",
        "    \n",
        "    vm=V[i]-Vr  ## relative membrane potential                    \n",
        "    \n",
        "    \n",
        "    ## VALUES AND EQUATIONS OF THE CONSTANTS\n",
        "    am=(0.1*(25-vm))/(np.exp((25-vm)/10)-1)\n",
        "    bm=4*np.exp(-vm/18)\n",
        "    an=(0.01*(10-vm))/(np.exp((10-vm)/10)-1)\n",
        "    bn=0.125*np.exp(-vm/80)\n",
        "    ah=0.07*np.exp(-vm/20)\n",
        "    bh=1/(np.exp((30-vm)/10)+1)\n",
        "\n",
        "\n",
        "    ### Solving for the probabilities\n",
        "    N[i+1]=N[i]+dt*(an*(1-N[i])-bn*N[i]);            \n",
        "    M[i+1]=M[i]+dt*(am*(1-M[i])-bm*M[i]);            \n",
        "    H[i+1]=H[i]+dt*(ah*(1-H[i])-bh*H[i]);            \n",
        "    \n",
        "    \n",
        "    ## Solving for the membrane voltages\n",
        "    if t[i]>=5 and t[i]<=5.2:                              \n",
        "        V[i+1]=V[i]+dt*(-INa[i]-IK[i]-IO[i]+Istim)/Cm     \n",
        "    else:\n",
        "        V[i+1]=V[i]+dt*(-INa[i]-IK[i]-IO[i])/Cm  "
      ],
      "metadata": {
        "id": "piZO6wW73Pyt"
      },
      "execution_count": null,
      "outputs": []
    },
    {
      "cell_type": "markdown",
      "source": [
        "For the below membrane voltage graph, we see time on the x axis and mV on the y axis. Molecularly, this is known as an action potential. At resting, we see that there a no voltage gates open and only leak channels, no there isn't a membrane voltage. Then depolarization occures, where the threshold current/potential is reach, as you can see the little upward bump. When the threshold current is hit, sodium activation gates open very rapidly in the sodium voltage gated channels and then Na+ rushes into the cell, making the cell membrane potential very positive, very fast. Then there is a period known as the absolute refractory period, where at the peak of the action potential, there cannot happen an another action potential, and at this period is when inactivation gates for Na+ close and the potassium voltage gates are fully open. Note that during the opening of Na+ activation gates, the K+ were being opened too, just at a very small rate, similar to the inactivation gates of Na+ voltage gates channels. When the potassium voltage gates open, the K+ rushes out of the cell, making the cell more negative and kind of balancing out the positive charge to bring back the cell to RMP. However, the potassium gates are slow to close, so the cell goes into a state known as hyperpolarized state, where a little bit more than normal K+ rush out. During this time, the membrane potential is in a relative refractory period, as the current or potential dipped below the threshold potential. Now it's possible for an action potential to fire. To get back from hyperpolarization back to the RMP state, sodium potassium pumps can get back on duty with some ATPase and push the ions back against their concentration gradients to create a some RMP. "
      ],
      "metadata": {
        "id": "Qi-ADvQ0bVOm"
      }
    },
    {
      "cell_type": "code",
      "source": [
        "## membrane voltage\n",
        "voltage = plt.subplot(111)\n",
        "voltage.plot(V)"
      ],
      "metadata": {
        "colab": {
          "base_uri": "https://localhost:8080/",
          "height": 283
        },
        "outputId": "a4046556-8ea1-4eb7-9a62-0a04bdbaa2f0",
        "id": "yjX4TEbn3ala"
      },
      "execution_count": null,
      "outputs": [
        {
          "output_type": "execute_result",
          "data": {
            "text/plain": [
              "[<matplotlib.lines.Line2D at 0x7f9c5e211e10>]"
            ]
          },
          "metadata": {},
          "execution_count": 18
        },
        {
          "output_type": "display_data",
          "data": {
            "text/plain": [
              "<Figure size 432x288 with 1 Axes>"
            ],
            "image/png": "[encoded data removed]"
          },
          "metadata": {
            "needs_background": "light"
          }
        }
      ]
    },
    {
      "cell_type": "markdown",
      "source": [
        "This is the conductance plot for Na+ and K+ ions, and we can see this really correlates with what was said in the action potential graph. X-axis is time and y-axis is mS normalized by surface area (cm^2). So, it can be easily seen that at the time of the action potential depolarization, the sodium gates rapidly open, while the K+ gates open a lot more slowly, meaning conductance of Na+ is much higher in depolarization than K+. But during repolarization and after ARP, the potassium gate conductance is much higher, as the inactivation gate of Na+ gates have closed and its just K+ flowing out of the cell. Also, K+ conductance graph is shorter and wider compared to the Na+ conductance graph due to the snowball type effect positive feedback loop. The earlier the action potential or rise of membrane voltage, the faster it ends. "
      ],
      "metadata": {
        "id": "KdaQjCo8bUSO"
      }
    },
    {
      "cell_type": "code",
      "source": [
        "## conductance\n",
        "conductance = plt.subplot(111)\n",
        "conductance.plot(GNa)\n",
        "conductance.plot(GK)"
      ],
      "metadata": {
        "colab": {
          "base_uri": "https://localhost:8080/",
          "height": 283
        },
        "outputId": "73b2988f-cecf-44b6-f969-56f22e0555f1",
        "id": "p-IcEuzM3alb"
      },
      "execution_count": null,
      "outputs": [
        {
          "output_type": "execute_result",
          "data": {
            "text/plain": [
              "[<matplotlib.lines.Line2D at 0x7f9c5dd01450>]"
            ]
          },
          "metadata": {},
          "execution_count": 19
        },
        {
          "output_type": "display_data",
          "data": {
            "text/plain": [
              "<Figure size 432x288 with 1 Axes>"
            ],
            "image/png": "[encoded data removed]"
          },
          "metadata": {
            "needs_background": "light"
          }
        }
      ]
    },
    {
      "cell_type": "markdown",
      "source": [
        "The graph below shows the gating probability for the original stimulus threshold for one stimulus. We see that N and M have high gating probability and this makes sense, as they are representing the activation gates opening and closing. The H, however, has a low gating probability, and this checks out as H is for the inactivation gates in regards to N+ conductance. "
      ],
      "metadata": {
        "id": "7GduZUvWqT2B"
      }
    },
    {
      "cell_type": "code",
      "source": [
        "prob = plt.subplot(111)\n",
        "prob.plot(N)\n",
        "prob.plot(M)\n",
        "prob.plot(H)"
      ],
      "metadata": {
        "colab": {
          "base_uri": "https://localhost:8080/",
          "height": 283
        },
        "outputId": "7208bf6c-2cb9-4f74-fa07-c96832b47164",
        "id": "QO7pQzBj3alb"
      },
      "execution_count": null,
      "outputs": [
        {
          "output_type": "execute_result",
          "data": {
            "text/plain": [
              "[<matplotlib.lines.Line2D at 0x7f9c5dbfce10>]"
            ]
          },
          "metadata": {},
          "execution_count": 21
        },
        {
          "output_type": "display_data",
          "data": {
            "text/plain": [
              "<Figure size 432x288 with 1 Axes>"
            ],
            "image/png": "[encoded data removed]"
          },
          "metadata": {
            "needs_background": "light"
          }
        }
      ]
    },
    {
      "cell_type": "markdown",
      "source": [
        "# G. MAJOR PLAYERS IN ACTION POTENTIAL (OTHER CURRENT EXAMINATION)"
      ],
      "metadata": {
        "id": "z08lYA5Jsy4m"
      }
    },
    {
      "cell_type": "markdown",
      "source": [
        "From the below current results, we can safely say that leakage current throughout the action potential curve journey is pretty much 0 and is negligible in the big picture. The cell membrane current is mostly dictated by the Na+ current and K+ current."
      ],
      "metadata": {
        "id": "YgdgnumjkHd4"
      }
    },
    {
      "cell_type": "code",
      "source": [
        "current = plt.subplot(111)\n",
        "current.plot(INa)\n",
        "current.plot(IK)\n",
        "current.plot(IO)"
      ],
      "metadata": {
        "colab": {
          "base_uri": "https://localhost:8080/",
          "height": 283
        },
        "outputId": "c3760deb-a5c6-4f8e-925e-3d3ede7c31f5",
        "id": "qfRJCkhX3alb"
      },
      "execution_count": null,
      "outputs": [
        {
          "output_type": "execute_result",
          "data": {
            "text/plain": [
              "[<matplotlib.lines.Line2D at 0x7f9c5dc7d190>]"
            ]
          },
          "metadata": {},
          "execution_count": 20
        },
        {
          "output_type": "display_data",
          "data": {
            "text/plain": [
              "<Figure size 432x288 with 1 Axes>"
            ],
            "image/png": "[encoded data removed]"
          },
          "metadata": {
            "needs_background": "light"
          }
        }
      ]
    },
    {
      "cell_type": "markdown",
      "source": [
        "# E. EXAMINE EFFECT ON MEMBRANE POTENTIAL WITH SUB-THRESHOLD CURRENT VALUE"
      ],
      "metadata": {
        "id": "Bxx213WKsfKG"
      }
    },
    {
      "cell_type": "markdown",
      "source": [
        "One Stimulus (Sub-Threshold)"
      ],
      "metadata": {
        "id": "efZMGSgB5Mo2"
      }
    },
    {
      "cell_type": "code",
      "source": [
        "for i in range(0,len(t)-1):\n",
        "    \n",
        "    GNa[i]=gNa*H[i]*M[i]**3  ## Na conductance       \n",
        "    GK[i]=gK*N[i]**4  ## K conductance              \n",
        "\n",
        "    INa[i]=GNa[i]*(V[i]-ENa) ## Current Na     \n",
        "    IK[i]=GK[i]*(V[i]-EK)  ## Current K        \n",
        "    IO[i]=GO*(V[i]-EO)  ## Current other ions (including Cl-)           \n",
        "    \n",
        "    vm=V[i]-Vr  ## relative membrane potential                    \n",
        "     \n",
        "    \n",
        "    ## VALUES AND EQUATIONS OF THE CONSTANTS\n",
        "    am=(0.1*(25-vm))/(np.exp((25-vm)/10)-1)\n",
        "    bm=4*np.exp(-vm/18)\n",
        "    an=(0.01*(10-vm))/(np.exp((10-vm)/10)-1)\n",
        "    bn=0.125*np.exp(-vm/80)\n",
        "    ah=0.07*np.exp(-vm/20)\n",
        "    bh=1/(np.exp((30-vm)/10)+1)\n",
        "\n",
        "\n",
        "    ### Solving for the probabilities\n",
        "    N[i+1]=N[i]+dt*(an*(1-N[i])-bn*N[i]);            \n",
        "    M[i+1]=M[i]+dt*(am*(1-M[i])-bm*M[i]);            \n",
        "    H[i+1]=H[i]+dt*(ah*(1-H[i])-bh*H[i]);            \n",
        "    \n",
        "    ## Solving for the membrane voltages when Istim is something less than \n",
        "    # found threshold current for one stimulus\n",
        "    if t[i]>=7 and t[i]<=7.2:                              \n",
        "        V[i+1]=V[i]+dt*(-INa[i]-IK[i]-IO[i]+Istim_substim)/Cm     \n",
        "    else:\n",
        "        V[i+1]=V[i]+dt*(-INa[i]-IK[i]-IO[i])/Cm \n",
        "     "
      ],
      "metadata": {
        "id": "OKrH_D0J6MDA"
      },
      "execution_count": null,
      "outputs": []
    },
    {
      "cell_type": "markdown",
      "source": [
        "The membrane voltage graph when the current stimulus is below the thershold current is shown below. Basically, there is no action potential, and no rush of Na+ to trigger an action potential, so it's just showing a minute rise and fall of Na+  conentration controlled by the opening and closing of K+ gates."
      ],
      "metadata": {
        "id": "ncqFa-CxlaQ1"
      }
    },
    {
      "cell_type": "code",
      "source": [
        "## membrane voltage\n",
        "voltage = plt.subplot(111)\n",
        "voltage.plot(V)"
      ],
      "metadata": {
        "colab": {
          "base_uri": "https://localhost:8080/",
          "height": 286
        },
        "outputId": "2586b6b1-d2aa-4308-d259-013194be2fac",
        "id": "-T9vNjZ_7ayl"
      },
      "execution_count": null,
      "outputs": [
        {
          "output_type": "execute_result",
          "data": {
            "text/plain": [
              "[<matplotlib.lines.Line2D at 0x7f9c5dcd0a90>]"
            ]
          },
          "metadata": {},
          "execution_count": 23
        },
        {
          "output_type": "display_data",
          "data": {
            "text/plain": [
              "<Figure size 432x288 with 1 Axes>"
            ],
            "image/png": "[encoded data removed]"
          },
          "metadata": {
            "needs_background": "light"
          }
        }
      ]
    },
    {
      "cell_type": "markdown",
      "source": [
        "# F. EXAMINE EFFECT ON MEMBRANE POTENTIAL WITH SUPRA-THRESHOLD CURRENT VALUE"
      ],
      "metadata": {
        "id": "Tnx-0IrcsnWG"
      }
    },
    {
      "cell_type": "markdown",
      "source": [
        "One Stimulus (Supra-Threshold)"
      ],
      "metadata": {
        "id": "D8a7KVzR6PrD"
      }
    },
    {
      "cell_type": "code",
      "source": [
        "for i in range(0,len(t)-1):\n",
        "    \n",
        "    GNa[i]=gNa*H[i]*M[i]**3  ## Na conductance       \n",
        "    GK[i]=gK*N[i]**4  ## K conductance              \n",
        "\n",
        "    INa[i]=GNa[i]*(V[i]-ENa) ## Current Na     \n",
        "    IK[i]=GK[i]*(V[i]-EK)  ## Current K        \n",
        "    IO[i]=GO*(V[i]-EO)  ## Current other ions (including Cl-)           \n",
        "    \n",
        "    vm=V[i]-Vr  ## relative membrane potential                    \n",
        "     \n",
        "    \n",
        "    ## VALUES AND EQUATIONS OF THE CONSTANTS\n",
        "    am=(0.1*(25-vm))/(np.exp((25-vm)/10)-1)\n",
        "    bm=4*np.exp(-vm/18)\n",
        "    an=(0.01*(10-vm))/(np.exp((10-vm)/10)-1)\n",
        "    bn=0.125*np.exp(-vm/80)\n",
        "    ah=0.07*np.exp(-vm/20)\n",
        "    bh=1/(np.exp((30-vm)/10)+1)\n",
        "\n",
        "\n",
        "    ### Solving for the probabilities\n",
        "    N[i+1]=N[i]+dt*(an*(1-N[i])-bn*N[i]);            \n",
        "    M[i+1]=M[i]+dt*(am*(1-M[i])-bm*M[i]);            \n",
        "    H[i+1]=H[i]+dt*(ah*(1-H[i])-bh*H[i]);            \n",
        "    \n",
        "    \n",
        "    ## Solving for the membrane voltages when stimulus current is double the \n",
        "    # threshold current found above in part D. \n",
        "    if t[i]>=7 and t[i]<=7.2:                              \n",
        "        V[i+1]=V[i]+dt*(-INa[i]-IK[i]-IO[i]+Istim_suprastim)/Cm     \n",
        "    else:\n",
        "        V[i+1]=V[i]+dt*(-INa[i]-IK[i]-IO[i])/Cm "
      ],
      "metadata": {
        "id": "J3Lwx9X56WH2"
      },
      "execution_count": null,
      "outputs": []
    },
    {
      "cell_type": "markdown",
      "source": [
        "The action potential has the same peak even though, it's double the stimulus current. It can be seen that the action potential happens and ends faster, though, because the rush of Na+ can be triggered much faster due to a higher stimulus current (current proportional to conductance). "
      ],
      "metadata": {
        "id": "G6Ra2sY6mfvx"
      }
    },
    {
      "cell_type": "code",
      "source": [
        "## membrane voltage\n",
        "voltage = plt.subplot(111)\n",
        "voltage.plot(V)"
      ],
      "metadata": {
        "colab": {
          "base_uri": "https://localhost:8080/",
          "height": 283
        },
        "outputId": "ac9f229d-fd8d-4e85-e42d-66d6287dccf3",
        "id": "Lgb7wusx7cG4"
      },
      "execution_count": null,
      "outputs": [
        {
          "output_type": "execute_result",
          "data": {
            "text/plain": [
              "[<matplotlib.lines.Line2D at 0x7f9c5d96f250>]"
            ]
          },
          "metadata": {},
          "execution_count": 28
        },
        {
          "output_type": "display_data",
          "data": {
            "text/plain": [
              "<Figure size 432x288 with 1 Axes>"
            ],
            "image/png": "[encoded data removed]"
          },
          "metadata": {
            "needs_background": "light"
          }
        }
      ]
    },
    {
      "cell_type": "markdown",
      "source": [
        "# H. INVESTIGATING EFFECT OF TWO SEPARATE STIMULATING CURRENT PULSES AT DIFFERENT TIMES *(current at both is Istim)*"
      ],
      "metadata": {
        "id": "-eAoRuf3tDKc"
      }
    },
    {
      "cell_type": "markdown",
      "source": [
        "Two stimuli (Equal to original Istim)"
      ],
      "metadata": {
        "id": "nU1M3RsL6dcP"
      }
    },
    {
      "cell_type": "code",
      "source": [
        "for i in range(0,len(t)-1):\n",
        "    \n",
        "    GNa[i]=gNa*H[i]*M[i]**3  ## Na conductance       \n",
        "    GK[i]=gK*N[i]**4  ## K conductance              \n",
        "\n",
        "    INa[i]=GNa[i]*(V[i]-ENa) ## Current Na     \n",
        "    IK[i]=GK[i]*(V[i]-EK)  ## Current K        \n",
        "    IO[i]=GO*(V[i]-EO)  ## Current other ions (including Cl-)           \n",
        "    \n",
        "    vm=V[i]-Vr  ## relative membrane potential                    \n",
        "     \n",
        "    \n",
        "    ## VALUES AND EQUATIONS OF THE CONSTANTS\n",
        "    am=(0.1*(25-vm))/(np.exp((25-vm)/10)-1)\n",
        "    bm=4*np.exp(-vm/18)\n",
        "    an=(0.01*(10-vm))/(np.exp((10-vm)/10)-1)\n",
        "    bn=0.125*np.exp(-vm/80)\n",
        "    ah=0.07*np.exp(-vm/20)\n",
        "    bh=1/(np.exp((30-vm)/10)+1)\n",
        "\n",
        "\n",
        "    ### Solving for the probabilities\n",
        "    N[i+1]=N[i]+dt*(an*(1-N[i])-bn*N[i]);            \n",
        "    M[i+1]=M[i]+dt*(am*(1-M[i])-bm*M[i]);            \n",
        "    H[i+1]=H[i]+dt*(ah*(1-H[i])-bh*H[i]);            \n",
        "    \n",
        "    \n",
        "    ## Solving for the membrane voltages when two current stimuli are applied\n",
        "    # at two different times, however at the same interval -- the same current\n",
        "    # value in amperes is applied\n",
        "    if t[i]>=5 and t[i]<=5.2:                              \n",
        "        V[i+1]=V[i]+dt*(-INa[i]-IK[i]-IO[i]+Istim)/Cm\n",
        "    elif t[i]>=20 and t[i]<=20.2:                              \n",
        "        V[i+1]=V[i]+dt*(-INa[i]-IK[i]-IO[i]+Istim)/Cm     \n",
        "    else:\n",
        "        V[i+1]=V[i]+dt*(-INa[i]-IK[i]-IO[i])/Cm        "
      ],
      "metadata": {
        "id": "U5p0uby928fb"
      },
      "execution_count": null,
      "outputs": []
    },
    {
      "cell_type": "markdown",
      "source": [
        "Let's look at the membrane voltage graph when there are two stimuli of the same current. We can see that the first action potential occurs to the stimulus current, but the second action potential does not occur, during the \"relative refractory period\" and hyperpolarized state, because the current stimulus was not enough.Basically, there are still K+ leaving the cell at this time, so the stimulus current needs to counteract that and increase for the second action potential to be fired."
      ],
      "metadata": {
        "id": "5e-1D95onUTh"
      }
    },
    {
      "cell_type": "code",
      "source": [
        "## membrane voltage\n",
        "voltage = plt.subplot(111)\n",
        "voltage.plot(V)"
      ],
      "metadata": {
        "colab": {
          "base_uri": "https://localhost:8080/",
          "height": 283
        },
        "outputId": "e516f139-787d-430b-f2eb-d0011b7e66ca",
        "id": "9FaAkoUZ3Yc6"
      },
      "execution_count": null,
      "outputs": [
        {
          "output_type": "execute_result",
          "data": {
            "text/plain": [
              "[<matplotlib.lines.Line2D at 0x7f9c5d7a12d0>]"
            ]
          },
          "metadata": {},
          "execution_count": 33
        },
        {
          "output_type": "display_data",
          "data": {
            "text/plain": [
              "<Figure size 432x288 with 1 Axes>"
            ],
            "image/png": "[encoded data removed]"
          },
          "metadata": {
            "needs_background": "light"
          }
        }
      ]
    },
    {
      "cell_type": "markdown",
      "source": [
        "We can see the same with conductance, as the conductance is just looking like the original one stimulus conductance, there is not two jumps for Na+ conductance or K+ conductance, so the gates did not all open twice, they just had that effect once. "
      ],
      "metadata": {
        "id": "vWK2uw7uoH9r"
      }
    },
    {
      "cell_type": "code",
      "source": [
        "## conductance\n",
        "conductance = plt.subplot(111)\n",
        "conductance.plot(GNa)\n",
        "conductance.plot(GK)"
      ],
      "metadata": {
        "colab": {
          "base_uri": "https://localhost:8080/",
          "height": 283
        },
        "outputId": "84d1e683-551d-4b08-f952-432fb9f2736b",
        "id": "LsZaJ57B3Yc7"
      },
      "execution_count": null,
      "outputs": [
        {
          "output_type": "execute_result",
          "data": {
            "text/plain": [
              "[<matplotlib.lines.Line2D at 0x7f9c5d741c50>]"
            ]
          },
          "metadata": {},
          "execution_count": 34
        },
        {
          "output_type": "display_data",
          "data": {
            "text/plain": [
              "<Figure size 432x288 with 1 Axes>"
            ],
            "image/png": "[encoded data removed]"
          },
          "metadata": {
            "needs_background": "light"
          }
        }
      ]
    },
    {
      "cell_type": "markdown",
      "source": [
        "# H. INVESTIGATING EFFECT OF TWO SEPARATE STIMULATING CURRENT PULSES AT DIFFERENT TIMES *(current at second ilicits action potential Istim_hyper)*"
      ],
      "metadata": {
        "id": "PbaFYsR2tVBi"
      }
    },
    {
      "cell_type": "markdown",
      "source": [
        "Two stimuli (1 Istim and 1 stimulus to ilicit action potential from refractory period)\n",
        "\n"
      ],
      "metadata": {
        "id": "DVl-w3I-6jkj"
      }
    },
    {
      "cell_type": "code",
      "source": [
        "for i in range(0,len(t)-1):\n",
        "    \n",
        "    GNa[i]=gNa*H[i]*M[i]**3  ## Na conductance       \n",
        "    GK[i]=gK*N[i]**4  ## K conductance              \n",
        "\n",
        "    INa[i]=GNa[i]*(V[i]-ENa) ## Current Na     \n",
        "    IK[i]=GK[i]*(V[i]-EK)  ## Current K        \n",
        "    IO[i]=GO*(V[i]-EO)  ## Current other ions (including Cl-)           \n",
        "    \n",
        "    vm=V[i]-Vr  ## relative membrane potential                    \n",
        "     \n",
        "    \n",
        "    ## VALUES AND EQUATIONS OF THE CONSTANTS\n",
        "    am=(0.1*(25-vm))/(np.exp((25-vm)/10)-1)\n",
        "    bm=4*np.exp(-vm/18)\n",
        "    an=(0.01*(10-vm))/(np.exp((10-vm)/10)-1)\n",
        "    bn=0.125*np.exp(-vm/80)\n",
        "    ah=0.07*np.exp(-vm/20)\n",
        "    bh=1/(np.exp((30-vm)/10)+1)\n",
        "\n",
        "\n",
        "    ### Solving for the probabilities\n",
        "    N[i+1]=N[i]+dt*(an*(1-N[i])-bn*N[i]);            \n",
        "    M[i+1]=M[i]+dt*(am*(1-M[i])-bm*M[i]);            \n",
        "    H[i+1]=H[i]+dt*(ah*(1-H[i])-bh*H[i]);            \n",
        "    \n",
        "    \n",
        "    ## Solving for the membrane voltages when two different stimuli, with two \n",
        "    # different threshold currents is applied. Basically, in the relative refractory \n",
        "    # period, if we want to generate an action potential, we need a lot more stimulus \n",
        "    # current as we need to counteract the open K+ channels allowing K+ to leave the cell\n",
        "    # making the cell less positive. Hence, Istim_hyper is the value that gives us \n",
        "    # the action potential from the relative refractory period.\n",
        "    if t[i]>=5 and t[i]<=5.2:                              \n",
        "        V[i+1]=V[i]+dt*(-INa[i]-IK[i]-IO[i]+Istim)/Cm\n",
        "    elif t[i]>=20 and t[i]<=20.2:                              \n",
        "        V[i+1]=V[i]+dt*(-INa[i]-IK[i]-IO[i]+Istim_hyper)/Cm     \n",
        "    else:\n",
        "        V[i+1]=V[i]+dt*(-INa[i]-IK[i]-IO[i])/Cm        "
      ],
      "metadata": {
        "id": "ON7Z-hNb28u1"
      },
      "execution_count": null,
      "outputs": []
    },
    {
      "cell_type": "markdown",
      "source": [
        "Increasing the stimulus current allows for the action potential to fire, as the below graph suggests. There are now two action potentials being fired and they are of the same magnitude."
      ],
      "metadata": {
        "id": "bdew_DTWoUIE"
      }
    },
    {
      "cell_type": "code",
      "source": [
        "## membrane voltage\n",
        "voltage = plt.subplot(111)\n",
        "voltage.plot(V)"
      ],
      "metadata": {
        "colab": {
          "base_uri": "https://localhost:8080/",
          "height": 283
        },
        "outputId": "79ca4b8c-ca53-446f-8823-a6d82f30c090",
        "id": "yTBwcJUZ3VBG"
      },
      "execution_count": null,
      "outputs": [
        {
          "output_type": "execute_result",
          "data": {
            "text/plain": [
              "[<matplotlib.lines.Line2D at 0x7f9c5e297190>]"
            ]
          },
          "metadata": {},
          "execution_count": 38
        },
        {
          "output_type": "display_data",
          "data": {
            "text/plain": [
              "<Figure size 432x288 with 1 Axes>"
            ],
            "image/png": "[encoded data removed]"
          },
          "metadata": {
            "needs_background": "light"
          }
        }
      ]
    },
    {
      "cell_type": "markdown",
      "source": [
        "Conductance shows us the same as membrane potential, as when time progressed, there is another burst of Na+ conductance (showing activation gates opening rapidly) and a K+ slowly opening for depolarization. We can see that the action potential conductance curves still hold true for both the first and second action potential. "
      ],
      "metadata": {
        "id": "rMIHbP0ooc1M"
      }
    },
    {
      "cell_type": "code",
      "source": [
        "## conductance\n",
        "conductance = plt.subplot(111)\n",
        "conductance.plot(GNa)\n",
        "conductance.plot(GK)"
      ],
      "metadata": {
        "colab": {
          "base_uri": "https://localhost:8080/",
          "height": 283
        },
        "outputId": "a5af878f-5395-42f4-c7e4-16ceb2c03634",
        "id": "MOSeshpJ3VBH"
      },
      "execution_count": null,
      "outputs": [
        {
          "output_type": "execute_result",
          "data": {
            "text/plain": [
              "[<matplotlib.lines.Line2D at 0x7f9c5d572b50>]"
            ]
          },
          "metadata": {},
          "execution_count": 39
        },
        {
          "output_type": "display_data",
          "data": {
            "text/plain": [
              "<Figure size 432x288 with 1 Axes>"
            ],
            "image/png": "[encoded data removed]"
          },
          "metadata": {
            "needs_background": "light"
          }
        }
      ]
    },
    {
      "cell_type": "markdown",
      "source": [
        "# I. INVESTIGATING EFFECT OF TWO SEPARATE STIMULATING CURRENT PULSES AT DIFFERENT TIMES *(current at second ilicits action potential Istim_long as time is also double for second stimulus)*"
      ],
      "metadata": {
        "id": "BA297ImQt00l"
      }
    },
    {
      "cell_type": "markdown",
      "source": [
        "Two stimuli (1 Istim and 1 stimulus to ilicit action potential from refractory period) -- This time refractory period stimuli lasts two times as long..."
      ],
      "metadata": {
        "id": "5S1ZoDL47IyB"
      }
    },
    {
      "cell_type": "code",
      "source": [
        "for i in range(0,len(t)-1):\n",
        "    \n",
        "    GNa[i]=gNa*H[i]*M[i]**3  ## Na conductance       \n",
        "    GK[i]=gK*N[i]**4  ## K conductance              \n",
        "\n",
        "    INa[i]=GNa[i]*(V[i]-ENa) ## Current Na     \n",
        "    IK[i]=GK[i]*(V[i]-EK)  ## Current K        \n",
        "    IO[i]=GO*(V[i]-EO)  ## Current other ions (including Cl-)           \n",
        "    \n",
        "    vm=V[i]-Vr  ## relative membrane potential                    \n",
        "     \n",
        "    \n",
        "    ## VALUES AND EQUATIONS OF THE CONSTANTS\n",
        "    am=(0.1*(25-vm))/(np.exp((25-vm)/10)-1)\n",
        "    bm=4*np.exp(-vm/18)\n",
        "    an=(0.01*(10-vm))/(np.exp((10-vm)/10)-1)\n",
        "    bn=0.125*np.exp(-vm/80)\n",
        "    ah=0.07*np.exp(-vm/20)\n",
        "    bh=1/(np.exp((30-vm)/10)+1)\n",
        "\n",
        "\n",
        "    ### Solving for the probabilities\n",
        "    N[i+1]=N[i]+dt*(an*(1-N[i])-bn*N[i]);            \n",
        "    M[i+1]=M[i]+dt*(am*(1-M[i])-bm*M[i]);            \n",
        "    H[i+1]=H[i]+dt*(ah*(1-H[i])-bh*H[i]);            \n",
        "    \n",
        "    \n",
        "    ## Solving for the membrane voltages when two different current stimuli are\n",
        "    # applied to the same system at two different times. however, this time, we \n",
        "    # increased the time of stimulus (there will be like compound build up now --\n",
        "    # something like a temporal addition) so the stimulus to ilicit an action \n",
        "    # potential from the relative refractory period is lower.\n",
        "    if t[i]>=5 and t[i]<=5.2:                              \n",
        "        V[i+1]=V[i]+dt*(-INa[i]-IK[i]-IO[i]+Istim)/Cm\n",
        "    elif t[i]>=20 and t[i]<=20.4:                              \n",
        "        V[i+1]=V[i]+dt*(-INa[i]-IK[i]-IO[i]+Istim_long)/Cm     \n",
        "    else:\n",
        "        V[i+1]=V[i]+dt*(-INa[i]-IK[i]-IO[i])/Cm        "
      ],
      "metadata": {
        "id": "U4kjxfhepGue"
      },
      "execution_count": null,
      "outputs": []
    },
    {
      "cell_type": "markdown",
      "source": [
        "The longer second stimulus duration allows for a much smaller threshold current to induce an action potential. This is due to a type of compound effect known as temporal compounding, where the presynaptic neuron is repeatedly sending neurotransmitters into the synaptic space. Think like a woodpecker constantly pecking at the tree. These effects compound quickly to generate the action potential with a much lower stimulus current, as the action is repeated over and over again, twice as long as the original stimulus time. See below that both action potentials are generated. "
      ],
      "metadata": {
        "id": "_IbC-Uc8otax"
      }
    },
    {
      "cell_type": "code",
      "source": [
        "## membrane voltage\n",
        "voltage = plt.subplot(111)\n",
        "voltage.plot(V)"
      ],
      "metadata": {
        "colab": {
          "base_uri": "https://localhost:8080/",
          "height": 283
        },
        "id": "0euBYu3aMCUT",
        "outputId": "4aec51f8-b833-4263-8c39-aa58b2e11817"
      },
      "execution_count": null,
      "outputs": [
        {
          "output_type": "execute_result",
          "data": {
            "text/plain": [
              "[<matplotlib.lines.Line2D at 0x7f9c5d3f3450>]"
            ]
          },
          "metadata": {},
          "execution_count": 43
        },
        {
          "output_type": "display_data",
          "data": {
            "text/plain": [
              "<Figure size 432x288 with 1 Axes>"
            ],
            "image/png": "[encoded data removed]"
          },
          "metadata": {
            "needs_background": "light"
          }
        }
      ]
    }
  ]
}